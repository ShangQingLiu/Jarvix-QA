{
 "cells": [
  {
   "attachments": {},
   "cell_type": "markdown",
   "metadata": {},
   "source": [
    "# Using GPT3 to do few shot learning to get Jarvix entities"
   ]
  },
  {
   "cell_type": "code",
   "execution_count": 13,
   "metadata": {},
   "outputs": [],
   "source": [
    "import openai as ai\n",
    "\n",
    "ai.api_key = ''\n",
    "\n",
    "def generate_gpt3_response(user_text, print_output=False):\n",
    "    \"\"\"\n",
    "    Query OpenAI GPT-3 for the specific key and get back a response\n",
    "    :type user_text: str the user's text to query for\n",
    "    :type print_output: boolean whether or not to print the raw output JSON\n",
    "    \"\"\"\n",
    "    completions = ai.Completion.create(\n",
    "        engine='text-davinci-003',  # Determines the quality, speed, and cost.\n",
    "        temperature=0.5,            # Level of creativity in the response\n",
    "        prompt=user_text,           # What the user typed in\n",
    "        max_tokens=100,             # Maximum tokens in the prompt AND response\n",
    "        n=1,                        # The number of completions to generate\n",
    "        stop=None,                  # An optional setting to control response generation\n",
    "    )\n",
    "\n",
    "    # Displaying the output can be helpful if things go wrong\n",
    "    if print_output:\n",
    "        print(completions)\n",
    "\n",
    "    # Return the first choice's text\n",
    "    return completions.choices[0].text"
   ]
  },
  {
   "cell_type": "code",
   "execution_count": 20,
   "metadata": {},
   "outputs": [],
   "source": [
    "import pandas as pd\n",
    "\n",
    "def get_ner_prompt(few_shot: int, data_path = \"data/chunk_question_v1_1.csv\"):\n",
    "\n",
    "    ner_mapping = {\"O\":0, \"I-Column\": 1, \"B-Column\":2, \"I-Operation\":3, \"B-Operation\":4, \"I-Restriction\":5, \"B-Restriction\":6, \"I-Pattern\":7, \"B-Pattern\":8, \"I-Others\":9, \"B-Others\": 10}\n",
    "    ner_remapping = {\"0\":\"O\",  \"1\":\"I-Column\", \"2\":\"B-Column\", \"3\":\"I-Operation\", \"4\":\"B-Operation\", \"5\":\"I-Restriction\", \"6\":\"B-Restriction\", \"7\":\"I-Pattern\", \"8\":\"B-Pattern\", \"9\":\"I-Others\", \"10\":\"B-Others\"}\n",
    "\n",
    "    dataframe = pd.read_csv(data_path,header=0)\n",
    "\n",
    "    # [Text]:\\n[Jarvix-Entity]:\\n###[Text]:New Text\n",
    "    prompt = \"\"\n",
    "    question_text = \"\"\n",
    "    for index, row in dataframe.iterrows():\n",
    "\n",
    "        ex_prompt = \"[Text]:\"\n",
    "        chunks = row[\"text\"].split()\n",
    "        text = \"\".join(chunks)\n",
    "\n",
    "        ex_prompt += text\n",
    "        ex_prompt += \"\\n\" \n",
    "\n",
    "        if index > few_shot:\n",
    "            question_text = ex_prompt\n",
    "            prompt+=ex_prompt\n",
    "            break \n",
    "\n",
    "        for chunk,ner in zip(chunks,row[\"ner_tags\"].split()):\n",
    "            tmp_prompt = \"\"\n",
    "            tmp_prompt += f\"[{ner_remapping[str(ner)]}]:{chunk}\"\n",
    "            tmp_prompt +=\"\\n\"\n",
    "            ex_prompt +=tmp_prompt\n",
    "        ex_prompt += \"###\"\n",
    "        prompt += ex_prompt\n",
    "        \n",
    "    return prompt, question_text\n",
    "\n"
   ]
  },
  {
   "cell_type": "code",
   "execution_count": 21,
   "metadata": {},
   "outputs": [],
   "source": [
    "import pandas as pd\n",
    "\n",
    "def get_conv_prompt(few_shot: int, data_path = \"data/Jarvix_qa_label_v1_3.csv\"):\n",
    "    answer = \"\"\n",
    "    dataframe = pd.read_csv(data_path,header=0)\n",
    "\n",
    "    # [Text]:\\n[Jarvix-Entity]:\\n###[Text]:New Text\n",
    "    prompt = \"\"\n",
    "    question_text = \"\"\n",
    "    columns = \"\"\n",
    "    for index, row in dataframe.iterrows():\n",
    "        # create converstaion example\n",
    "        ex_prompt = \"\"\n",
    "        ex_prompt +=\"[Question]:\" + row[\"conversation\"] + \"\\n\"\n",
    "        ex_prompt +=\"[Columns]:\" + row[\"column\"] + \"\\n\"\n",
    "        columns =\"[Columns]:\" + row[\"column\"] + \"\\n\"\n",
    "        ex_prompt +=\"[Text]:\" + row[\"text\"] + \"\\n\"\n",
    "        ex_prompt +=\"###\\n\"\n",
    "        \n",
    "        ex_prompt +=\"[Question]:\" + row[\"conversation2\"] + \"\\n\"\n",
    "        ex_prompt +=\"[Columns]:\" + row[\"column\"] + \"\\n\"\n",
    "\n",
    "        ex_prompt +=\"[Text]:\" + row[\"text\"] + \"\\n\"\n",
    "        ex_prompt +=\"###\\n\"\n",
    "        \n",
    "        if index > few_shot:\n",
    "        #     question_text = row[\"conversation2\"]\n",
    "        #     prompt+=ex_prompt + \"[Text]:\"\n",
    "        #     answer = row[\"text\"] \n",
    "            break \n",
    "\n",
    "        prompt += ex_prompt\n",
    "        \n",
    "    return prompt, columns\n",
    "\n"
   ]
  },
  {
   "attachments": {},
   "cell_type": "markdown",
   "metadata": {},
   "source": [
    "## Test GPT 3"
   ]
  },
  {
   "cell_type": "code",
   "execution_count": 22,
   "metadata": {},
   "outputs": [
    {
     "name": "stdout",
     "output_type": "stream",
     "text": [
      "response:各 產品 的 客戶編號\n",
      "answer:各 產品 的 客戶編號\n"
     ]
    }
   ],
   "source": [
    "prompt, columns = get_conv_prompt(10) # teach 10 samples\n",
    "question = \"[Question]:每個產品有哪些客戶編號\\n\"\n",
    "prompt += question\n",
    "prompt += columns\n",
    "prompt += \"[Text]:\"\n",
    "answer = \"各 產品 的 客戶編號\"\n",
    "response = generate_gpt3_response(prompt)\n",
    "print(f\"response:{response}\")\n",
    "print(f\"answer:{answer}\")"
   ]
  },
  {
   "attachments": {},
   "cell_type": "markdown",
   "metadata": {},
   "source": [
    "## Text GPT NEO X\n"
   ]
  }
 ],
 "metadata": {
  "kernelspec": {
   "display_name": "jarvix_qa",
   "language": "python",
   "name": "python3"
  },
  "language_info": {
   "codemirror_mode": {
    "name": "ipython",
    "version": 3
   },
   "file_extension": ".py",
   "mimetype": "text/x-python",
   "name": "python",
   "nbconvert_exporter": "python",
   "pygments_lexer": "ipython3",
   "version": "3.8.16"
  },
  "orig_nbformat": 4,
  "vscode": {
   "interpreter": {
    "hash": "1b0a29f53631678c0166a40f49938c70010e53514e05336d0e980dc17fe0cd1e"
   }
  }
 },
 "nbformat": 4,
 "nbformat_minor": 2
}
